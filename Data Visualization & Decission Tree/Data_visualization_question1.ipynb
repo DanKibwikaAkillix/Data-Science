{
 "cells": [
  {
   "cell_type": "markdown",
   "id": "6aa5700f",
   "metadata": {},
   "source": [
    "# pandas (`import pandas as pd`)"
   ]
  },
  {
   "cell_type": "markdown",
   "id": "0f000ee5",
   "metadata": {},
   "source": [
    "    \n",
    "   Pandas is a popular data manipulation and analysis library in Python.\n",
    "   It provides data structures (like DataFrames and Series) for working with structured data.\n",
    "   In the code, it's used for reading, organizing, and processing the dataset, including one-hot encoding categorical  variables.\n"
   ]
  },
  {
   "cell_type": "code",
   "execution_count": null,
   "id": "6abd9381",
   "metadata": {},
   "outputs": [],
   "source": []
  },
  {
   "cell_type": "markdown",
   "id": "dd5293dd",
   "metadata": {},
   "source": [
    "# matplotlib.pyplot (import matplotlib.pyplot as plt)"
   ]
  },
  {
   "cell_type": "markdown",
   "id": "9e0665b8",
   "metadata": {},
   "source": [
    "\n",
    "matplotlib is a widely-used library for creating static, animated, and interactive visualizations in Python.\n",
    "pyplot is a sub-library within `matplotlib that provides a MATLAB-like interface for creating plots and charts.\n",
    "In the code, it's used for creating and displaying scatterplots and decision tree visualizations.\n"
   ]
  },
  {
   "cell_type": "code",
   "execution_count": null,
   "id": "9e3dcc04",
   "metadata": {},
   "outputs": [],
   "source": []
  },
  {
   "cell_type": "markdown",
   "id": "49af284f",
   "metadata": {},
   "source": [
    "# seaborn(seaborn as sns)"
   ]
  },
  {
   "cell_type": "markdown",
   "id": "b58af7b1",
   "metadata": {},
   "source": [
    "Seaborn is a data visualization library that leverages the power of matplotlib to produce visually appealing and informative statistical graphics."
   ]
  },
  {
   "cell_type": "code",
   "execution_count": 3,
   "id": "6bcd2870",
   "metadata": {},
   "outputs": [],
   "source": [
    "\n",
    "\n",
    "import pandas as pd \n",
    "import matplotlib.pyplot as plt\n",
    "import seaborn as sns"
   ]
  },
  {
   "cell_type": "markdown",
   "id": "1f2cdf11",
   "metadata": {},
   "source": [
    "# Import & show the Dataframe"
   ]
  },
  {
   "cell_type": "code",
   "execution_count": 4,
   "id": "341e751b",
   "metadata": {},
   "outputs": [
    {
     "data": {
      "text/html": [
       "<div>\n",
       "<style scoped>\n",
       "    .dataframe tbody tr th:only-of-type {\n",
       "        vertical-align: middle;\n",
       "    }\n",
       "\n",
       "    .dataframe tbody tr th {\n",
       "        vertical-align: top;\n",
       "    }\n",
       "\n",
       "    .dataframe thead th {\n",
       "        text-align: right;\n",
       "    }\n",
       "</style>\n",
       "<table border=\"1\" class=\"dataframe\">\n",
       "  <thead>\n",
       "    <tr style=\"text-align: right;\">\n",
       "      <th></th>\n",
       "      <th>Unnamed: 0</th>\n",
       "      <th>Very interested</th>\n",
       "      <th>Somewhat interested</th>\n",
       "      <th>Not interested</th>\n",
       "    </tr>\n",
       "  </thead>\n",
       "  <tbody>\n",
       "    <tr>\n",
       "      <th>0</th>\n",
       "      <td>Big Data (Spark / Hadoop)</td>\n",
       "      <td>1332</td>\n",
       "      <td>729</td>\n",
       "      <td>127</td>\n",
       "    </tr>\n",
       "    <tr>\n",
       "      <th>1</th>\n",
       "      <td>Data Analysis / Statistics</td>\n",
       "      <td>1688</td>\n",
       "      <td>444</td>\n",
       "      <td>60</td>\n",
       "    </tr>\n",
       "    <tr>\n",
       "      <th>2</th>\n",
       "      <td>Data Journalism</td>\n",
       "      <td>429</td>\n",
       "      <td>1081</td>\n",
       "      <td>610</td>\n",
       "    </tr>\n",
       "    <tr>\n",
       "      <th>3</th>\n",
       "      <td>Data Visualization</td>\n",
       "      <td>1340</td>\n",
       "      <td>734</td>\n",
       "      <td>102</td>\n",
       "    </tr>\n",
       "    <tr>\n",
       "      <th>4</th>\n",
       "      <td>Deep Learning</td>\n",
       "      <td>1263</td>\n",
       "      <td>770</td>\n",
       "      <td>136</td>\n",
       "    </tr>\n",
       "    <tr>\n",
       "      <th>5</th>\n",
       "      <td>Machine Learning</td>\n",
       "      <td>1629</td>\n",
       "      <td>477</td>\n",
       "      <td>74</td>\n",
       "    </tr>\n",
       "  </tbody>\n",
       "</table>\n",
       "</div>"
      ],
      "text/plain": [
       "                   Unnamed: 0  Very interested  Somewhat interested  \\\n",
       "0   Big Data (Spark / Hadoop)             1332                  729   \n",
       "1  Data Analysis / Statistics             1688                  444   \n",
       "2             Data Journalism              429                 1081   \n",
       "3          Data Visualization             1340                  734   \n",
       "4               Deep Learning             1263                  770   \n",
       "5            Machine Learning             1629                  477   \n",
       "\n",
       "   Not interested  \n",
       "0             127  \n",
       "1              60  \n",
       "2             610  \n",
       "3             102  \n",
       "4             136  \n",
       "5              74  "
      ]
     },
     "metadata": {},
     "output_type": "display_data"
    }
   ],
   "source": [
    "dataFrame_version1 = pd.read_csv(\"Topic_Survey_Assignment.csv\")\n",
    "display(dataFrame_version1)"
   ]
  },
  {
   "cell_type": "markdown",
   "id": "a052f41a",
   "metadata": {},
   "source": []
  },
  {
   "cell_type": "markdown",
   "id": "e65ef99b",
   "metadata": {},
   "source": [
    "# SORT DATA BY KEYS(very interestied, .., Not interested)"
   ]
  },
  {
   "cell_type": "code",
   "execution_count": 5,
   "id": "f2d82ef7",
   "metadata": {
    "scrolled": false
   },
   "outputs": [
    {
     "data": {
      "text/html": [
       "<div>\n",
       "<style scoped>\n",
       "    .dataframe tbody tr th:only-of-type {\n",
       "        vertical-align: middle;\n",
       "    }\n",
       "\n",
       "    .dataframe tbody tr th {\n",
       "        vertical-align: top;\n",
       "    }\n",
       "\n",
       "    .dataframe thead th {\n",
       "        text-align: right;\n",
       "    }\n",
       "</style>\n",
       "<table border=\"1\" class=\"dataframe\">\n",
       "  <thead>\n",
       "    <tr style=\"text-align: right;\">\n",
       "      <th></th>\n",
       "      <th>Unnamed: 0</th>\n",
       "      <th>Very interested</th>\n",
       "      <th>Somewhat interested</th>\n",
       "      <th>Not interested</th>\n",
       "    </tr>\n",
       "  </thead>\n",
       "  <tbody>\n",
       "    <tr>\n",
       "      <th>1</th>\n",
       "      <td>Data Analysis / Statistics</td>\n",
       "      <td>1688</td>\n",
       "      <td>444</td>\n",
       "      <td>60</td>\n",
       "    </tr>\n",
       "    <tr>\n",
       "      <th>5</th>\n",
       "      <td>Machine Learning</td>\n",
       "      <td>1629</td>\n",
       "      <td>477</td>\n",
       "      <td>74</td>\n",
       "    </tr>\n",
       "    <tr>\n",
       "      <th>3</th>\n",
       "      <td>Data Visualization</td>\n",
       "      <td>1340</td>\n",
       "      <td>734</td>\n",
       "      <td>102</td>\n",
       "    </tr>\n",
       "    <tr>\n",
       "      <th>0</th>\n",
       "      <td>Big Data (Spark / Hadoop)</td>\n",
       "      <td>1332</td>\n",
       "      <td>729</td>\n",
       "      <td>127</td>\n",
       "    </tr>\n",
       "    <tr>\n",
       "      <th>4</th>\n",
       "      <td>Deep Learning</td>\n",
       "      <td>1263</td>\n",
       "      <td>770</td>\n",
       "      <td>136</td>\n",
       "    </tr>\n",
       "    <tr>\n",
       "      <th>2</th>\n",
       "      <td>Data Journalism</td>\n",
       "      <td>429</td>\n",
       "      <td>1081</td>\n",
       "      <td>610</td>\n",
       "    </tr>\n",
       "  </tbody>\n",
       "</table>\n",
       "</div>"
      ],
      "text/plain": [
       "                   Unnamed: 0  Very interested  Somewhat interested  \\\n",
       "1  Data Analysis / Statistics             1688                  444   \n",
       "5            Machine Learning             1629                  477   \n",
       "3          Data Visualization             1340                  734   \n",
       "0   Big Data (Spark / Hadoop)             1332                  729   \n",
       "4               Deep Learning             1263                  770   \n",
       "2             Data Journalism              429                 1081   \n",
       "\n",
       "   Not interested  \n",
       "1              60  \n",
       "5              74  \n",
       "3             102  \n",
       "0             127  \n",
       "4             136  \n",
       "2             610  "
      ]
     },
     "metadata": {},
     "output_type": "display_data"
    }
   ],
   "source": [
    "# sort by Keys \n",
    "\n",
    "userRating3 = dataFrame_version1.sort_values(by=['Very interested', 'Somewhat interested', 'Not interested' ], ascending=[False, False, False])\n",
    "display(userRating3)"
   ]
  },
  {
   "cell_type": "code",
   "execution_count": null,
   "id": "60db2b74",
   "metadata": {},
   "outputs": [],
   "source": []
  },
  {
   "cell_type": "code",
   "execution_count": 6,
   "id": "dfb8bce1",
   "metadata": {},
   "outputs": [
    {
     "data": {
      "text/html": [
       "<div>\n",
       "<style scoped>\n",
       "    .dataframe tbody tr th:only-of-type {\n",
       "        vertical-align: middle;\n",
       "    }\n",
       "\n",
       "    .dataframe tbody tr th {\n",
       "        vertical-align: top;\n",
       "    }\n",
       "\n",
       "    .dataframe thead th {\n",
       "        text-align: right;\n",
       "    }\n",
       "</style>\n",
       "<table border=\"1\" class=\"dataframe\">\n",
       "  <thead>\n",
       "    <tr style=\"text-align: right;\">\n",
       "      <th></th>\n",
       "      <th>Unnamed: 0</th>\n",
       "      <th>Very interested</th>\n",
       "      <th>Somewhat interested</th>\n",
       "      <th>Not interested</th>\n",
       "    </tr>\n",
       "  </thead>\n",
       "  <tbody>\n",
       "    <tr>\n",
       "      <th>1</th>\n",
       "      <td>Data Analysis / Statistics</td>\n",
       "      <td>1688</td>\n",
       "      <td>444</td>\n",
       "      <td>60</td>\n",
       "    </tr>\n",
       "    <tr>\n",
       "      <th>5</th>\n",
       "      <td>Machine Learning</td>\n",
       "      <td>1629</td>\n",
       "      <td>477</td>\n",
       "      <td>74</td>\n",
       "    </tr>\n",
       "    <tr>\n",
       "      <th>3</th>\n",
       "      <td>Data Visualization</td>\n",
       "      <td>1340</td>\n",
       "      <td>734</td>\n",
       "      <td>102</td>\n",
       "    </tr>\n",
       "    <tr>\n",
       "      <th>0</th>\n",
       "      <td>Big Data (Spark / Hadoop)</td>\n",
       "      <td>1332</td>\n",
       "      <td>729</td>\n",
       "      <td>127</td>\n",
       "    </tr>\n",
       "    <tr>\n",
       "      <th>4</th>\n",
       "      <td>Deep Learning</td>\n",
       "      <td>1263</td>\n",
       "      <td>770</td>\n",
       "      <td>136</td>\n",
       "    </tr>\n",
       "    <tr>\n",
       "      <th>2</th>\n",
       "      <td>Data Journalism</td>\n",
       "      <td>429</td>\n",
       "      <td>1081</td>\n",
       "      <td>610</td>\n",
       "    </tr>\n",
       "  </tbody>\n",
       "</table>\n",
       "</div>"
      ],
      "text/plain": [
       "                   Unnamed: 0  Very interested  Somewhat interested  \\\n",
       "1  Data Analysis / Statistics             1688                  444   \n",
       "5            Machine Learning             1629                  477   \n",
       "3          Data Visualization             1340                  734   \n",
       "0   Big Data (Spark / Hadoop)             1332                  729   \n",
       "4               Deep Learning             1263                  770   \n",
       "2             Data Journalism              429                 1081   \n",
       "\n",
       "   Not interested  \n",
       "1              60  \n",
       "5              74  \n",
       "3             102  \n",
       "0             127  \n",
       "4             136  \n",
       "2             610  "
      ]
     },
     "metadata": {},
     "output_type": "display_data"
    }
   ],
   "source": [
    "finalDataFrame = userRating3\n",
    "display(finalDataFrame)"
   ]
  },
  {
   "cell_type": "markdown",
   "id": "c05fdbcc",
   "metadata": {},
   "source": [
    "# Sum Of each Colunm "
   ]
  },
  {
   "cell_type": "code",
   "execution_count": 7,
   "id": "936f2704",
   "metadata": {},
   "outputs": [
    {
     "name": "stdout",
     "output_type": "stream",
     "text": [
      "343.98\n"
     ]
    }
   ],
   "source": [
    "sumOfVeryinterested = ((finalDataFrame ['Very interested'].sum()) * 100) / 2233\n",
    "print(sumOfVeryinterested.round(2))\n"
   ]
  },
  {
   "cell_type": "code",
   "execution_count": 8,
   "id": "5b1cc992",
   "metadata": {},
   "outputs": [
    {
     "name": "stdout",
     "output_type": "stream",
     "text": [
      "189.66\n"
     ]
    }
   ],
   "source": [
    "sumOfSomewhatInterested = ((finalDataFrame ['Somewhat interested'].sum())* 100) / 2233\n",
    "print(sumOfSomewhatInterested.round(2))\n"
   ]
  },
  {
   "cell_type": "code",
   "execution_count": 9,
   "id": "5623d412",
   "metadata": {},
   "outputs": [
    {
     "name": "stdout",
     "output_type": "stream",
     "text": [
      "49.66\n"
     ]
    }
   ],
   "source": [
    "sumOfNotInterested = ((finalDataFrame ['Not interested'].sum()) * 100) / 2233\n",
    "print(sumOfNotInterested.round(2))\n"
   ]
  },
  {
   "cell_type": "code",
   "execution_count": 11,
   "id": "f4213902",
   "metadata": {},
   "outputs": [
    {
     "name": "stdout",
     "output_type": "stream",
     "text": [
      "Total Number of Respondent\n",
      "583.2960143304971\n"
     ]
    }
   ],
   "source": [
    "totalNumberOfRespondents = sumOfVeryinterested  + sumOfSomewhatInterested + sumOfNotInterested\n",
    "print (\"Total Number of Respondent\")\n",
    "print(totalNumberOfRespondents)"
   ]
  },
  {
   "cell_type": "markdown",
   "id": "ca1dd3b5",
   "metadata": {},
   "source": [
    "# totalNumberOfRespondents to % & round the number to 2 decimal places "
   ]
  },
  {
   "cell_type": "code",
   "execution_count": 12,
   "id": "7bcd0c39",
   "metadata": {},
   "outputs": [
    {
     "name": "stdout",
     "output_type": "stream",
     "text": [
      "583.3\n"
     ]
    }
   ],
   "source": [
    "\n",
    "print(totalNumberOfRespondents.round(2))"
   ]
  },
  {
   "cell_type": "code",
   "execution_count": null,
   "id": "f7feb955",
   "metadata": {},
   "outputs": [],
   "source": []
  },
  {
   "cell_type": "markdown",
   "id": "40f5177c",
   "metadata": {},
   "source": [
    "# Plotting of Data in a Bar Chart "
   ]
  },
  {
   "cell_type": "code",
   "execution_count": 15,
   "id": "f7ea976d",
   "metadata": {},
   "outputs": [
    {
     "data": {
      "image/png": "[encoded data removed]",
      "text/plain": [
       "<Figure size 1440x576 with 1 Axes>"
      ]
     },
     "metadata": {
      "needs_background": "light"
     },
     "output_type": "display_data"
    }
   ],
   "source": [
    "\n",
    "\n",
    "#Design the  chart specifiction , \n",
    "# Kind defines the \"type of Chart\" to be drawn  \n",
    "# figSize specifizes the Size, width the width of the Chart, color specifizes the Color,  fontSize the Size of the Texts\n",
    "\n",
    "barChart = finalDataFrame.plot(kind = 'bar',\n",
    "                figsize = (20,8),\n",
    "                width = 0.8,\n",
    "                color = ('#5cb85c', '#5bc0de', '#d9534f'),\n",
    "                fontsize = 14)\n",
    "\n",
    "#set_title helps set the Title of the Chart \n",
    "#spines defines the Bar specification such as visibility\n",
    "\n",
    "barChart.set_title(\"Data Science Survey Responses\",  fontsize = 16)\n",
    "barChart.legend(fontsize = 14) \n",
    "\n",
    "barChart.spines['top'].set_visible(True)\n",
    "barChart.spines['right'].set_visible(True)\n",
    "barChart.spines['left'].set_visible(True)\n",
    "\n",
    "# Adding the percentage values and set the decimal point to 2 \n",
    "for i in barChart.patches:\n",
    "    barChart.annotate(\"{:.2%}\".format(i.get_height()),\n",
    "                xy=(i.get_x()+0.02, i.get_height()+0.01))"
   ]
  },
  {
   "cell_type": "code",
   "execution_count": null,
   "id": "c067d9cc",
   "metadata": {},
   "outputs": [],
   "source": []
  },
  {
   "cell_type": "markdown",
   "id": "c22194db",
   "metadata": {},
   "source": []
  },
  {
   "cell_type": "code",
   "execution_count": null,
   "id": "6515c42d",
   "metadata": {},
   "outputs": [],
   "source": []
  }
 ],
 "metadata": {
  "kernelspec": {
   "display_name": "Python 3 (ipykernel)",
   "language": "python",
   "name": "python3"
  },
  "language_info": {
   "codemirror_mode": {
    "name": "ipython",
    "version": 3
   },
   "file_extension": ".py",
   "mimetype": "text/x-python",
   "name": "python",
   "nbconvert_exporter": "python",
   "pygments_lexer": "ipython3",
   "version": "3.9.12"
  }
 },
 "nbformat": 4,
 "nbformat_minor": 5
}
