{
 "cells": [
  {
   "cell_type": "markdown",
   "id": "ba1f3234-801b-4fa9-8d7a-5fadac382cd5",
   "metadata": {},
   "source": [
    "# Simple Sentiment Analysis\n",
    "The task was to run a simple sentiment analysis on a local newspaper article to determine whether it is positive, negative or neutral."
   ]
  },
  {
   "cell_type": "markdown",
   "id": "28cc5886",
   "metadata": {},
   "source": [
    "### Install Python Packages"
   ]
  },
  {
   "cell_type": "code",
   "execution_count": 1,
   "id": "9859fcae",
   "metadata": {},
   "outputs": [],
   "source": [
    "#!pip install textblob\n",
    "#!pip install newspaper3K"
   ]
  },
  {
   "cell_type": "markdown",
   "id": "a66987b3",
   "metadata": {},
   "source": [
    "### Import Python Modules"
   ]
  },
  {
   "cell_type": "code",
   "execution_count": 2,
   "id": "9a6e845b",
   "metadata": {},
   "outputs": [],
   "source": [
    "from textblob import TextBlob # NLP\n",
    "from newspaper import Article # Scraping of data"
   ]
  },
  {
   "cell_type": "markdown",
   "id": "8d7399ee-e339-48f6-895a-803d806623f0",
   "metadata": {},
   "source": [
    "### Loading Data"
   ]
  },
  {
   "cell_type": "code",
   "execution_count": 3,
   "id": "21bd7742",
   "metadata": {},
   "outputs": [
    {
     "name": "stdout",
     "output_type": "stream",
     "text": [
      "0.0\n"
     ]
    }
   ],
   "source": [
    "url = 'https://www.namibian.com.na/bank-of-namibia-temporarily-suspends-trustco-bank'\n",
    "\n",
    "article = Article(url)\n",
    "\n",
    "article.download()\n",
    "article.parse()\n",
    "article.nlp\n",
    "\n",
    "text = article.summary\n",
    "\n",
    "blob = TextBlob(text)\n",
    "\n",
    "sentiment = blob.sentiment.polarity\n",
    "\n",
    "print(sentiment)"
   ]
  },
  {
   "cell_type": "markdown",
   "id": "41c6b6a3-9da9-45c4-9057-0c286a9a12f8",
   "metadata": {},
   "source": [
    "We can see our score is zero because this article is neutral"
   ]
  }
 ],
 "metadata": {
  "kernelspec": {
   "display_name": "Python 3 (ipykernel)",
   "language": "python",
   "name": "python3"
  },
  "language_info": {
   "codemirror_mode": {
    "name": "ipython",
    "version": 3
   },
   "file_extension": ".py",
   "mimetype": "text/x-python",
   "name": "python",
   "nbconvert_exporter": "python",
   "pygments_lexer": "ipython3",
   "version": "3.10.11"
  }
 },
 "nbformat": 4,
 "nbformat_minor": 5
}
